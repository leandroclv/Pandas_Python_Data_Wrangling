{
 "cells": [
  {
   "cell_type": "code",
   "execution_count": 33,
   "id": "62f6617c",
   "metadata": {},
   "outputs": [],
   "source": [
    "import pandas as pd"
   ]
  },
  {
   "cell_type": "markdown",
   "id": "15576da2",
   "metadata": {},
   "source": [
    "##Hello Series"
   ]
  },
  {
   "cell_type": "code",
   "execution_count": 34,
   "id": "1af3e641",
   "metadata": {},
   "outputs": [
    {
     "data": {
      "text/plain": [
       "0    7.6\n",
       "1    5.0\n",
       "2    8.5\n",
       "3    9.5\n",
       "4    6.4\n",
       "dtype: float64"
      ]
     },
     "execution_count": 34,
     "metadata": {},
     "output_type": "execute_result"
    }
   ],
   "source": [
    "#Cria a Series de notas\n",
    "notas = pd.Series([7.6, 5.0, 8.5, 9.5, 6.4])\n",
    "notas"
   ]
  },
  {
   "cell_type": "code",
   "execution_count": 35,
   "id": "101b140f",
   "metadata": {},
   "outputs": [],
   "source": [
    "#Cria a Series de alunos\n",
    "lst_matriculas = ['M02', 'M05', 'M13', 'M14', 'M19']\n",
    "lst_nomes = ['Bob', 'Dayse', 'Bill', 'Cris', 'Jimi']\n",
    "alunos = pd.Series(lst_nomes, index=lst_matriculas)"
   ]
  },
  {
   "cell_type": "code",
   "execution_count": 36,
   "id": "77391419",
   "metadata": {},
   "outputs": [
    {
     "name": "stdout",
     "output_type": "stream",
     "text": [
      "0    7.6\n",
      "1    5.0\n",
      "2    8.5\n",
      "3    9.5\n",
      "4    6.4\n",
      "dtype: float64\n",
      "-------------------\n",
      "M02      Bob\n",
      "M05    Dayse\n",
      "M13     Bill\n",
      "M14     Cris\n",
      "M19     Jimi\n",
      "dtype: object\n"
     ]
    }
   ],
   "source": [
    "#imprime suas duas Series\n",
    "print(notas); print('-------------------'); print(alunos)"
   ]
  },
  {
   "cell_type": "code",
   "execution_count": 37,
   "id": "cbf9b855",
   "metadata": {},
   "outputs": [],
   "source": [
    "#Outra maneira de criar Series\n",
    "dic_alunos = {'M02': 'Bob', 'M05': 'Dayse', 'M13': 'Bill', 'M14': 'Cris', 'M19': 'Jimi'}\n",
    "alunos = pd.Series(dic_alunos)"
   ]
  },
  {
   "cell_type": "code",
   "execution_count": 38,
   "id": "b6391056",
   "metadata": {},
   "outputs": [
    {
     "name": "stdout",
     "output_type": "stream",
     "text": [
      "M02      Bob\n",
      "M05    Dayse\n",
      "M13     Bill\n",
      "M14     Cris\n",
      "M19     Jimi\n",
      "dtype: object\n"
     ]
    }
   ],
   "source": [
    "print(alunos)"
   ]
  },
  {
   "cell_type": "markdown",
   "id": "b6f15f46",
   "metadata": {},
   "source": [
    "##Propriedades básicas das Series"
   ]
  },
  {
   "cell_type": "code",
   "execution_count": 39,
   "id": "9ec27ae4",
   "metadata": {},
   "outputs": [],
   "source": [
    "#Atribui nomes para os vetores de dados e rótulos\n",
    "alunos.name = 'alunos'\n",
    "alunos.index.name = 'matrículas'"
   ]
  },
  {
   "cell_type": "code",
   "execution_count": 40,
   "id": "6e23f530",
   "metadata": {},
   "outputs": [
    {
     "name": "stdout",
     "output_type": "stream",
     "text": [
      "matrículas\n",
      "M02      Bob\n",
      "M05    Dayse\n",
      "M13     Bill\n",
      "M14     Cris\n",
      "M19     Jimi\n",
      "Name: alunos, dtype: object\n",
      "----------------------------\n",
      "Número de elementos: 5\n",
      "Vetor de dados: ['Bob' 'Dayse' 'Bill' 'Cris' 'Jimi']\n",
      "Vetor de rótulos: Index(['M02', 'M05', 'M13', 'M14', 'M19'], dtype='object', name='matrículas')\n",
      "Tipo (type): <class 'pandas.core.series.Series'>\n",
      "Dtype da Series: object\n",
      "Dtype do vetor de rótulos: object\n"
     ]
    }
   ],
   "source": [
    "#Recupera e imprime as propriedades\n",
    "print(alunos)\n",
    "print('----------------------------')\n",
    "tamanho = alunos.size\n",
    "dados = alunos.values\n",
    "rotulos = alunos.index\n",
    "alunos_tipo = type(alunos)\n",
    "alunos_dtype = alunos.dtype\n",
    "alunos_idx_dtype = alunos.index.dtype\n",
    "\n",
    "print(f'Número de elementos: {tamanho}')\n",
    "print(f'Vetor de dados: {dados}')\n",
    "print(f'Vetor de rótulos: {rotulos}')\n",
    "print(f'Tipo (type): {alunos_tipo}')\n",
    "print(f'Dtype da Series: {alunos_dtype}')\n",
    "print(f'Dtype do vetor de rótulos: {alunos_idx_dtype}')"
   ]
  },
  {
   "cell_type": "code",
   "execution_count": 41,
   "id": "96b97528",
   "metadata": {},
   "outputs": [
    {
     "name": "stdout",
     "output_type": "stream",
     "text": [
      "Bob\n",
      "Cris\n",
      "Jimi\n"
     ]
    },
    {
     "name": "stderr",
     "output_type": "stream",
     "text": [
      "/tmp/ipykernel_20320/671481380.py:2: FutureWarning: Series.__getitem__ treating keys as positions is deprecated. In a future version, integer keys will always be treated as labels (consistent with DataFrame behavior). To access a value by position, use `ser.iloc[pos]`\n",
      "  print(alunos[0]) #pega o primeiro aluno\n",
      "/tmp/ipykernel_20320/671481380.py:4: FutureWarning: Series.__getitem__ treating keys as positions is deprecated. In a future version, integer keys will always be treated as labels (consistent with DataFrame behavior). To access a value by position, use `ser.iloc[pos]`\n",
      "  print(alunos[alunos.size-1]) #último aluno ou alunos[-1]\n"
     ]
    }
   ],
   "source": [
    "#Indexação tradicional\n",
    "print(alunos[0]) #pega o primeiro aluno\n",
    "print(alunos['M14']) #aluno de matrícula 'M14'\n",
    "print(alunos[alunos.size-1]) #último aluno ou alunos[-1]"
   ]
  },
  {
   "cell_type": "code",
   "execution_count": 42,
   "id": "b36d7286",
   "metadata": {},
   "outputs": [
    {
     "name": "stderr",
     "output_type": "stream",
     "text": [
      "/tmp/ipykernel_20320/3678335663.py:6: FutureWarning: Series.__getitem__ treating keys as positions is deprecated. In a future version, integer keys will always be treated as labels (consistent with DataFrame behavior). To access a value by position, use `ser.iloc[pos]`\n",
      "  print(alunos[[2,0,4]])#Todos os elementos especificados pelos índices da lista nesta ordem\n"
     ]
    },
    {
     "name": "stdout",
     "output_type": "stream",
     "text": [
      "matrículas\n",
      "M05    Dayse\n",
      "M13     Bill\n",
      "Name: alunos, dtype: object\n",
      "matrículas\n",
      "M13    Bill\n",
      "M14    Cris\n",
      "M19    Jimi\n",
      "Name: alunos, dtype: object\n",
      "matrículas\n",
      "M02      Bob\n",
      "M05    Dayse\n",
      "M13     Bill\n",
      "Name: alunos, dtype: object\n",
      "matrículas\n",
      "M05    Dayse\n",
      "M14     Cris\n",
      "Name: alunos, dtype: object\n",
      "matrículas\n",
      "M13    Bill\n",
      "M02     Bob\n",
      "M19    Jimi\n",
      "Name: alunos, dtype: object\n",
      "matrículas\n",
      "M13    Bill\n",
      "M02     Bob\n",
      "M19    Jimi\n",
      "Name: alunos, dtype: object\n"
     ]
    }
   ],
   "source": [
    "#Indexação por fatiamento\n",
    "print(alunos[1:3]) #Do elemento de indice i=1 ao de índice j =3 - 1, ou seja vai do elemento 1 ao elemento 2\n",
    "print(alunos[2:]) #Do elemento de índice i = 2 até o último elemento\n",
    "print(alunos[:3]) #Do primeiro elemento ao de índice j = 3 - 1, ou seja vai do primeiro elemento até o elemento 2\n",
    "print(alunos[1:4:2]) #Do elemento i = 1 ao j=4 -1, pulando os índices de 2 em 2\n",
    "print(alunos[[2,0,4]])#Todos os elementos especificados pelos índices da lista nesta ordem\n",
    "print(alunos[['M13', 'M02', 'M19']]) #Todos os elementos especificados pelo título da lista nesta ordem"
   ]
  },
  {
   "cell_type": "code",
   "execution_count": 43,
   "id": "3aaa6e83",
   "metadata": {},
   "outputs": [],
   "source": [
    "#Indexação booleana\n",
    "#Obtém os índices dos alunos aprovados\n",
    "idx_aprovados = notas[notas >= 7].index"
   ]
  },
  {
   "cell_type": "code",
   "execution_count": 44,
   "id": "f60b6aed",
   "metadata": {},
   "outputs": [
    {
     "name": "stdout",
     "output_type": "stream",
     "text": [
      "relação de alunos aprovados:\n",
      "--------------------------------\n",
      "matrículas\n",
      "M02     Bob\n",
      "M13    Bill\n",
      "M14    Cris\n",
      "Name: alunos, dtype: object\n"
     ]
    },
    {
     "name": "stderr",
     "output_type": "stream",
     "text": [
      "/tmp/ipykernel_20320/4050336039.py:4: FutureWarning: Series.__getitem__ treating keys as positions is deprecated. In a future version, integer keys will always be treated as labels (consistent with DataFrame behavior). To access a value by position, use `ser.iloc[pos]`\n",
      "  print(alunos[idx_aprovados])\n"
     ]
    }
   ],
   "source": [
    "#imprime os alunos aprovados\n",
    "print('relação de alunos aprovados:')\n",
    "print('--------------------------------')\n",
    "print(alunos[idx_aprovados])"
   ]
  },
  {
   "cell_type": "markdown",
   "id": "2708239f",
   "metadata": {},
   "source": [
    "##Busca em Series"
   ]
  },
  {
   "cell_type": "code",
   "execution_count": 45,
   "id": "0eb447f4",
   "metadata": {},
   "outputs": [
    {
     "name": "stdout",
     "output_type": "stream",
     "text": [
      "Existe o rótulo \"M13\"? -> True\n",
      "Existe o rótulo \"M99\"? -> False\n",
      "---------------------------------------\n"
     ]
    }
   ],
   "source": [
    "#Testa se rótulos fazem parte de uma Series\n",
    "tem_M13 = 'M13' in alunos\n",
    "tem_M99 = 'M99' in alunos\n",
    "print(f'Existe o rótulo \"M13\"? -> {tem_M13}')\n",
    "print(f'Existe o rótulo \"M99\"? -> {tem_M99}')\n",
    "print('---------------------------------------')"
   ]
  },
  {
   "cell_type": "code",
   "execution_count": 46,
   "id": "622a3e59",
   "metadata": {},
   "outputs": [
    {
     "name": "stdout",
     "output_type": "stream",
     "text": [
      "Existe o valor \"Bob\"\n",
      "matrículas\n",
      "M02     True\n",
      "M05    False\n",
      "M13    False\n",
      "M14    False\n",
      "M19    False\n",
      "Name: alunos, dtype: bool\n"
     ]
    }
   ],
   "source": [
    "#Testa se valor faz parte de uma Series\n",
    "tem_Bob = alunos.isin(['Bob'])\n",
    "print('Existe o valor \"Bob\"')\n",
    "print(tem_Bob)"
   ]
  },
  {
   "cell_type": "markdown",
   "id": "76fd6615",
   "metadata": {},
   "source": [
    "##Modificação"
   ]
  },
  {
   "cell_type": "code",
   "execution_count": 47,
   "id": "60eb9dbd",
   "metadata": {},
   "outputs": [],
   "source": [
    "#Inserindo, Alterando e removendo elementos de Series\n",
    "#inserir o aluno de matrícula M55, Rakesh\n",
    "alunos['M55'] = 'Rakesh'"
   ]
  },
  {
   "cell_type": "code",
   "execution_count": 48,
   "id": "0e5edd20",
   "metadata": {},
   "outputs": [],
   "source": [
    "#Altera os nomes Bill, Cris e Jimi para Billy, Cristy e Jimmy\n",
    "alunos['M13'] = 'Billy'\n",
    "alunos[['M14', 'M19']] = ['Cristy', 'Jimmy']"
   ]
  },
  {
   "cell_type": "code",
   "execution_count": 49,
   "id": "423bb3f4",
   "metadata": {},
   "outputs": [
    {
     "name": "stdout",
     "output_type": "stream",
     "text": [
      "---------------------------------\n",
      "Series após as alterações:\n",
      "matrículas\n",
      "M05     Dayse\n",
      "M13     Billy\n",
      "M14    Cristy\n",
      "M19     Jimmy\n",
      "M55    Rakesh\n",
      "Name: alunos, dtype: object\n"
     ]
    }
   ],
   "source": [
    "#Remove o aluno de matrícula M02 (Bob)\n",
    "alunos = alunos.drop('M02')\n",
    "\n",
    "print('---------------------------------')\n",
    "print('Series após as alterações:')\n",
    "print(alunos)"
   ]
  },
  {
   "cell_type": "code",
   "execution_count": 50,
   "id": "0fe2b35a",
   "metadata": {},
   "outputs": [
    {
     "data": {
      "text/plain": [
       "M55     Dayse\n",
       "M14     Billy\n",
       "M19    Cristy\n",
       "M13     Jimmy\n",
       "M05    Rakesh\n",
       "Name: alunos, dtype: object"
      ]
     },
     "execution_count": 50,
     "metadata": {},
     "output_type": "execute_result"
    }
   ],
   "source": [
    "#Muda o índice\n",
    "alunos.index = ['M55', 'M14', 'M19', 'M13', 'M05']\n",
    "alunos"
   ]
  },
  {
   "cell_type": "markdown",
   "id": "662da541",
   "metadata": {},
   "source": [
    "##Operações aritméticas com computação vetorizada"
   ]
  },
  {
   "cell_type": "code",
   "execution_count": 51,
   "id": "2488ecc5",
   "metadata": {},
   "outputs": [],
   "source": [
    "import numpy as np"
   ]
  },
  {
   "cell_type": "code",
   "execution_count": 52,
   "id": "5400ccda",
   "metadata": {},
   "outputs": [
    {
     "name": "stdout",
     "output_type": "stream",
     "text": [
      "0     4\n",
      "1     8\n",
      "2    12\n",
      "dtype: int64\n",
      "0     3\n",
      "1     7\n",
      "2    11\n",
      "dtype: int64\n",
      "0    1.414214\n",
      "1    2.000000\n",
      "2    2.449490\n",
      "dtype: float64\n"
     ]
    }
   ],
   "source": [
    "#Cria as Series s1 e s2\n",
    "s1 = pd.Series([2,4,6])\n",
    "s2 = pd.Series([1,3,5])\n",
    "print(s1 * 2)\n",
    "print(s1 + s2)\n",
    "print(np.sqrt(s1))"
   ]
  },
  {
   "cell_type": "markdown",
   "id": "7f46efb5",
   "metadata": {},
   "source": [
    "##O valor NaN"
   ]
  },
  {
   "cell_type": "code",
   "execution_count": 53,
   "id": "069b12b0",
   "metadata": {},
   "outputs": [],
   "source": [
    "verde = pd.Series({'BR': 1, 'FR':0, 'IT': 1, 'UK': 0})\n",
    "azul = pd.Series({'AR': 1, 'BR': 1, 'FR': 1, 'IT': 0, 'UK': 1})"
   ]
  },
  {
   "cell_type": "code",
   "execution_count": 54,
   "id": "2dbaafe0",
   "metadata": {},
   "outputs": [
    {
     "name": "stdout",
     "output_type": "stream",
     "text": [
      "Soma:\n",
      "AR    NaN\n",
      "BR    2.0\n",
      "FR    1.0\n",
      "IT    1.0\n",
      "UK    1.0\n",
      "dtype: float64\n",
      "---------------------------\n",
      "isnull(soma): \n",
      "AR     True\n",
      "BR    False\n",
      "FR    False\n",
      "IT    False\n",
      "UK    False\n",
      "dtype: bool\n"
     ]
    }
   ],
   "source": [
    "soma = verde + azul\n",
    "print('Soma:')\n",
    "print(soma)\n",
    "print('---------------------------')\n",
    "print('isnull(soma): ')\n",
    "print(pd.isnull(soma))"
   ]
  },
  {
   "cell_type": "markdown",
   "id": "7e31c3da",
   "metadata": {},
   "source": [
    "###Índices datetime"
   ]
  },
  {
   "cell_type": "code",
   "execution_count": 55,
   "id": "241fb7b8",
   "metadata": {},
   "outputs": [],
   "source": [
    "dias = ['10/02/2019', '11/02/2019', '12/02/2019', '13/02/2019', '14/02/2019', '15/02/2019']\n",
    "temp_max = [31,35,34,28,27,27]\n",
    "serie_temporal = pd.Series(temp_max, index=dias)"
   ]
  },
  {
   "cell_type": "code",
   "execution_count": 56,
   "id": "7d55498f",
   "metadata": {},
   "outputs": [],
   "source": [
    "#Converte o tipo do índice para datetime e imprime a série\n",
    "serie_temporal.index = pd.to_datetime(serie_temporal.index, format = '%d/%m/%Y')"
   ]
  },
  {
   "cell_type": "code",
   "execution_count": 57,
   "id": "91ba9979",
   "metadata": {},
   "outputs": [
    {
     "data": {
      "text/plain": [
       "2019-02-10    31\n",
       "2019-02-11    35\n",
       "2019-02-12    34\n",
       "2019-02-13    28\n",
       "2019-02-14    27\n",
       "2019-02-15    27\n",
       "dtype: int64"
      ]
     },
     "execution_count": 57,
     "metadata": {},
     "output_type": "execute_result"
    }
   ],
   "source": [
    "serie_temporal"
   ]
  },
  {
   "cell_type": "markdown",
   "id": "a95ae9ef",
   "metadata": {},
   "source": [
    "###Índexação hierárquica"
   ]
  },
  {
   "cell_type": "code",
   "execution_count": 58,
   "id": "16735eca",
   "metadata": {},
   "outputs": [],
   "source": [
    "moedas = ['Peso', 'Real', 'Euro', 'Euro', 'Libra']\n",
    "paises = [['América', 'América', 'Europa', 'Europa', 'Europa'], ['AR', 'BR', 'FR', 'IT', 'UK']]"
   ]
  },
  {
   "cell_type": "code",
   "execution_count": 59,
   "id": "ea1b40e5",
   "metadata": {},
   "outputs": [],
   "source": [
    "paises = pd.Series(moedas, index = paises)"
   ]
  },
  {
   "cell_type": "code",
   "execution_count": 60,
   "id": "8cf685ff",
   "metadata": {},
   "outputs": [
    {
     "name": "stdout",
     "output_type": "stream",
     "text": [
      "América  AR     Peso\n",
      "         BR     Real\n",
      "Europa   FR     Euro\n",
      "         IT     Euro\n",
      "         UK    Libra\n",
      "dtype: object\n",
      "---------------------\n",
      "AR    Peso\n",
      "BR    Real\n",
      "dtype: object\n",
      "---------------------\n",
      "Europa    Euro\n",
      "dtype: object\n",
      "---------------------\n",
      "Euro\n"
     ]
    }
   ],
   "source": [
    "print(paises)\n",
    "print('---------------------')\n",
    "print(paises['América'])\n",
    "print('---------------------')\n",
    "print(paises[:,'IT'])\n",
    "print('---------------------')\n",
    "print(paises['Europa', 'IT'])"
   ]
  },
  {
   "cell_type": "markdown",
   "id": "d64ce453",
   "metadata": {},
   "source": [
    "##DataFrame"
   ]
  },
  {
   "cell_type": "code",
   "execution_count": 61,
   "id": "059e3975",
   "metadata": {},
   "outputs": [
    {
     "data": {
      "text/html": [
       "<div>\n",
       "<style scoped>\n",
       "    .dataframe tbody tr th:only-of-type {\n",
       "        vertical-align: middle;\n",
       "    }\n",
       "\n",
       "    .dataframe tbody tr th {\n",
       "        vertical-align: top;\n",
       "    }\n",
       "\n",
       "    .dataframe thead th {\n",
       "        text-align: right;\n",
       "    }\n",
       "</style>\n",
       "<table border=\"1\" class=\"dataframe\">\n",
       "  <thead>\n",
       "    <tr style=\"text-align: right;\">\n",
       "      <th></th>\n",
       "      <th>nome</th>\n",
       "      <th>Continente</th>\n",
       "      <th>extensao</th>\n",
       "      <th>corVerde</th>\n",
       "    </tr>\n",
       "  </thead>\n",
       "  <tbody>\n",
       "    <tr>\n",
       "      <th>AR</th>\n",
       "      <td>Argentina</td>\n",
       "      <td>América</td>\n",
       "      <td>2780</td>\n",
       "      <td>0</td>\n",
       "    </tr>\n",
       "    <tr>\n",
       "      <th>BR</th>\n",
       "      <td>Brasil</td>\n",
       "      <td>América</td>\n",
       "      <td>8511</td>\n",
       "      <td>1</td>\n",
       "    </tr>\n",
       "    <tr>\n",
       "      <th>FR</th>\n",
       "      <td>França</td>\n",
       "      <td>Europa</td>\n",
       "      <td>644</td>\n",
       "      <td>0</td>\n",
       "    </tr>\n",
       "    <tr>\n",
       "      <th>IT</th>\n",
       "      <td>Itália</td>\n",
       "      <td>Europa</td>\n",
       "      <td>301</td>\n",
       "      <td>1</td>\n",
       "    </tr>\n",
       "    <tr>\n",
       "      <th>UK</th>\n",
       "      <td>Reino Unido</td>\n",
       "      <td>Europa</td>\n",
       "      <td>244</td>\n",
       "      <td>0</td>\n",
       "    </tr>\n",
       "  </tbody>\n",
       "</table>\n",
       "</div>"
      ],
      "text/plain": [
       "           nome Continente  extensao  corVerde\n",
       "AR    Argentina    América      2780         0\n",
       "BR       Brasil    América      8511         1\n",
       "FR       França     Europa       644         0\n",
       "IT       Itália     Europa       301         1\n",
       "UK  Reino Unido     Europa       244         0"
      ]
     },
     "execution_count": 61,
     "metadata": {},
     "output_type": "execute_result"
    }
   ],
   "source": [
    "dados = {'nome': ['Argentina', 'Brasil', 'França', 'Itália', 'Reino Unido'],\n",
    "        'Continente': ['América', 'América','Europa', 'Europa', 'Europa'],\n",
    "        'extensao': [2780,8511,644,301,244],\n",
    "        'corVerde': [0,1,0,1,0]\n",
    "        }\n",
    "\n",
    "siglas = ['AR', 'BR', 'FR', 'IT', 'UK']\n",
    "\n",
    "paises = pd.DataFrame(dados, index=siglas)\n",
    "\n",
    "paises"
   ]
  },
  {
   "cell_type": "code",
   "execution_count": 62,
   "id": "de1812f0",
   "metadata": {},
   "outputs": [],
   "source": [
    "#Propriedades básicas dos DataFrames\n",
    "num_linhas = paises.shape[0] \n",
    "num_colunas = paises.shape[1]\n",
    "indices = paises.index\n",
    "colunas = paises.columns\n",
    "paises_tipo = type(paises)\n",
    "paises_dtypes = paises.dtypes\n",
    "paises_idx_dtype = paises.index.dtype"
   ]
  },
  {
   "cell_type": "code",
   "execution_count": 63,
   "id": "fdbfc95c",
   "metadata": {},
   "outputs": [
    {
     "name": "stdout",
     "output_type": "stream",
     "text": [
      "número de linhas: 5\n",
      "números de colunas: 4\n",
      "rótulos das linhas: Index(['AR', 'BR', 'FR', 'IT', 'UK'], dtype='object')\n",
      "rótulos das colunas: Index(['nome', 'Continente', 'extensao', 'corVerde'], dtype='object')\n",
      "tipo (type): <class 'pandas.core.frame.DataFrame'>\n",
      "dtypes das colnuas:\n",
      " nome          object\n",
      "Continente    object\n",
      "extensao       int64\n",
      "corVerde       int64\n",
      "dtype: object\n",
      "dtype dos rótulos das linhas: object\n"
     ]
    }
   ],
   "source": [
    "print(f'número de linhas: {num_linhas}')\n",
    "print(f'números de colunas: {num_colunas}')\n",
    "print(f'rótulos das linhas: {indices}')\n",
    "print(f'rótulos das colunas: {colunas}')\n",
    "print(f'tipo (type): {paises_tipo}')\n",
    "print(f'dtypes das colnuas:\\n {paises_dtypes}')\n",
    "print(f'dtype dos rótulos das linhas: {paises_idx_dtype}')"
   ]
  },
  {
   "cell_type": "markdown",
   "id": "b4a7e174",
   "metadata": {},
   "source": [
    "###Indexação"
   ]
  },
  {
   "cell_type": "code",
   "execution_count": 64,
   "id": "912ea6eb",
   "metadata": {},
   "outputs": [
    {
     "name": "stderr",
     "output_type": "stream",
     "text": [
      "/tmp/ipykernel_20320/2666814518.py:1: FutureWarning: Series.__getitem__ treating keys as positions is deprecated. In a future version, integer keys will always be treated as labels (consistent with DataFrame behavior). To access a value by position, use `ser.iloc[pos]`\n",
      "  paises.iloc[1][0]\n"
     ]
    },
    {
     "data": {
      "text/plain": [
       "'Brasil'"
      ]
     },
     "execution_count": 64,
     "metadata": {},
     "output_type": "execute_result"
    }
   ],
   "source": [
    "paises.iloc[1][0]"
   ]
  },
  {
   "cell_type": "code",
   "execution_count": 65,
   "id": "7e658d36",
   "metadata": {},
   "outputs": [
    {
     "data": {
      "text/plain": [
       "'Brasil'"
      ]
     },
     "execution_count": 65,
     "metadata": {},
     "output_type": "execute_result"
    }
   ],
   "source": [
    "paises.iat[1,0]"
   ]
  },
  {
   "cell_type": "code",
   "execution_count": 66,
   "id": "a097cc45",
   "metadata": {},
   "outputs": [
    {
     "data": {
      "text/plain": [
       "np.int64(1)"
      ]
     },
     "execution_count": 66,
     "metadata": {},
     "output_type": "execute_result"
    }
   ],
   "source": [
    "paises.iloc[3]['corVerde']"
   ]
  },
  {
   "cell_type": "code",
   "execution_count": 67,
   "id": "18ece9c9",
   "metadata": {},
   "outputs": [
    {
     "name": "stderr",
     "output_type": "stream",
     "text": [
      "/tmp/ipykernel_20320/1506262804.py:1: FutureWarning: Series.__getitem__ treating keys as positions is deprecated. In a future version, integer keys will always be treated as labels (consistent with DataFrame behavior). To access a value by position, use `ser.iloc[pos]`\n",
      "  paises.loc['IT'][1]\n"
     ]
    },
    {
     "data": {
      "text/plain": [
       "'Europa'"
      ]
     },
     "execution_count": 67,
     "metadata": {},
     "output_type": "execute_result"
    }
   ],
   "source": [
    "paises.loc['IT'][1]"
   ]
  },
  {
   "cell_type": "code",
   "execution_count": 68,
   "id": "903c12cb",
   "metadata": {},
   "outputs": [
    {
     "data": {
      "text/plain": [
       "'França'"
      ]
     },
     "execution_count": 68,
     "metadata": {},
     "output_type": "execute_result"
    }
   ],
   "source": [
    "paises.loc['FR']['nome']"
   ]
  },
  {
   "cell_type": "code",
   "execution_count": 69,
   "id": "8015b402",
   "metadata": {},
   "outputs": [
    {
     "data": {
      "text/plain": [
       "'França'"
      ]
     },
     "execution_count": 69,
     "metadata": {},
     "output_type": "execute_result"
    }
   ],
   "source": [
    "paises.at['FR','nome']"
   ]
  },
  {
   "cell_type": "code",
   "execution_count": 70,
   "id": "c45d34f2",
   "metadata": {},
   "outputs": [
    {
     "data": {
      "text/plain": [
       "AR    2780\n",
       "BR    8511\n",
       "FR     644\n",
       "IT     301\n",
       "UK     244\n",
       "Name: extensao, dtype: int64"
      ]
     },
     "execution_count": 70,
     "metadata": {},
     "output_type": "execute_result"
    }
   ],
   "source": [
    "paises['extensao']"
   ]
  },
  {
   "cell_type": "code",
   "execution_count": 71,
   "id": "420ff0d7",
   "metadata": {},
   "outputs": [
    {
     "data": {
      "text/plain": [
       "AR    0\n",
       "BR    1\n",
       "FR    0\n",
       "IT    1\n",
       "UK    0\n",
       "Name: corVerde, dtype: int64"
      ]
     },
     "execution_count": 71,
     "metadata": {},
     "output_type": "execute_result"
    }
   ],
   "source": [
    "paises.corVerde"
   ]
  },
  {
   "cell_type": "code",
   "execution_count": 72,
   "id": "eb5d6459",
   "metadata": {},
   "outputs": [
    {
     "data": {
      "text/plain": [
       "nome           Brasil\n",
       "Continente    América\n",
       "extensao         8511\n",
       "corVerde            1\n",
       "Name: BR, dtype: object"
      ]
     },
     "execution_count": 72,
     "metadata": {},
     "output_type": "execute_result"
    }
   ],
   "source": [
    "paises.loc['BR']"
   ]
  },
  {
   "cell_type": "code",
   "execution_count": 73,
   "id": "4e2aa577",
   "metadata": {},
   "outputs": [
    {
     "data": {
      "text/plain": [
       "nome          França\n",
       "Continente    Europa\n",
       "extensao         644\n",
       "corVerde           0\n",
       "Name: FR, dtype: object"
      ]
     },
     "execution_count": 73,
     "metadata": {},
     "output_type": "execute_result"
    }
   ],
   "source": [
    "paises.iloc[2]"
   ]
  },
  {
   "cell_type": "code",
   "execution_count": 74,
   "id": "e93f1552",
   "metadata": {},
   "outputs": [
    {
     "data": {
      "text/html": [
       "<div>\n",
       "<style scoped>\n",
       "    .dataframe tbody tr th:only-of-type {\n",
       "        vertical-align: middle;\n",
       "    }\n",
       "\n",
       "    .dataframe tbody tr th {\n",
       "        vertical-align: top;\n",
       "    }\n",
       "\n",
       "    .dataframe thead th {\n",
       "        text-align: right;\n",
       "    }\n",
       "</style>\n",
       "<table border=\"1\" class=\"dataframe\">\n",
       "  <thead>\n",
       "    <tr style=\"text-align: right;\">\n",
       "      <th></th>\n",
       "      <th>nome</th>\n",
       "      <th>Continente</th>\n",
       "    </tr>\n",
       "  </thead>\n",
       "  <tbody>\n",
       "    <tr>\n",
       "      <th>AR</th>\n",
       "      <td>Argentina</td>\n",
       "      <td>América</td>\n",
       "    </tr>\n",
       "    <tr>\n",
       "      <th>BR</th>\n",
       "      <td>Brasil</td>\n",
       "      <td>América</td>\n",
       "    </tr>\n",
       "    <tr>\n",
       "      <th>FR</th>\n",
       "      <td>França</td>\n",
       "      <td>Europa</td>\n",
       "    </tr>\n",
       "  </tbody>\n",
       "</table>\n",
       "</div>"
      ],
      "text/plain": [
       "         nome Continente\n",
       "AR  Argentina    América\n",
       "BR     Brasil    América\n",
       "FR     França     Europa"
      ]
     },
     "execution_count": 74,
     "metadata": {},
     "output_type": "execute_result"
    }
   ],
   "source": [
    "paises.iloc[:3,:2]"
   ]
  },
  {
   "cell_type": "code",
   "execution_count": 75,
   "id": "a30a5f12",
   "metadata": {},
   "outputs": [
    {
     "data": {
      "text/plain": [
       "BR    1\n",
       "IT    1\n",
       "Name: corVerde, dtype: int64"
      ]
     },
     "execution_count": 75,
     "metadata": {},
     "output_type": "execute_result"
    }
   ],
   "source": [
    "paises.loc[['BR','IT'],'corVerde']"
   ]
  },
  {
   "cell_type": "code",
   "execution_count": 76,
   "id": "719fee26",
   "metadata": {},
   "outputs": [
    {
     "data": {
      "text/html": [
       "<div>\n",
       "<style scoped>\n",
       "    .dataframe tbody tr th:only-of-type {\n",
       "        vertical-align: middle;\n",
       "    }\n",
       "\n",
       "    .dataframe tbody tr th {\n",
       "        vertical-align: top;\n",
       "    }\n",
       "\n",
       "    .dataframe thead th {\n",
       "        text-align: right;\n",
       "    }\n",
       "</style>\n",
       "<table border=\"1\" class=\"dataframe\">\n",
       "  <thead>\n",
       "    <tr style=\"text-align: right;\">\n",
       "      <th></th>\n",
       "      <th>Continente</th>\n",
       "      <th>extensao</th>\n",
       "    </tr>\n",
       "  </thead>\n",
       "  <tbody>\n",
       "    <tr>\n",
       "      <th>IT</th>\n",
       "      <td>Europa</td>\n",
       "      <td>301</td>\n",
       "    </tr>\n",
       "    <tr>\n",
       "      <th>UK</th>\n",
       "      <td>Europa</td>\n",
       "      <td>244</td>\n",
       "    </tr>\n",
       "  </tbody>\n",
       "</table>\n",
       "</div>"
      ],
      "text/plain": [
       "   Continente  extensao\n",
       "IT     Europa       301\n",
       "UK     Europa       244"
      ]
     },
     "execution_count": 76,
     "metadata": {},
     "output_type": "execute_result"
    }
   ],
   "source": [
    "paises.iloc[-2:,1:3]"
   ]
  },
  {
   "cell_type": "markdown",
   "id": "230db0b1",
   "metadata": {},
   "source": [
    "###Busca"
   ]
  },
  {
   "cell_type": "code",
   "execution_count": 78,
   "id": "faad7be6",
   "metadata": {},
   "outputs": [
    {
     "name": "stdout",
     "output_type": "stream",
     "text": [
      "Existe o rótulo \"BR\"? -> True\n",
      "Existe o rótulo \"US\"? -> False\n"
     ]
    }
   ],
   "source": [
    "tem_BR = 'BR' in paises.index\n",
    "tem_US = 'US' in paises.index\n",
    "print(f'Existe o rótulo \"BR\"? -> {tem_BR}')\n",
    "print(f'Existe o rótulo \"US\"? -> {tem_US}')"
   ]
  },
  {
   "cell_type": "code",
   "execution_count": 79,
   "id": "89e4a582",
   "metadata": {},
   "outputs": [
    {
     "name": "stdout",
     "output_type": "stream",
     "text": [
      "Existe rótulo \"corVerde\"? -> True\n",
      "Exsite o rótulo \"corAzul\"? -> False\n"
     ]
    }
   ],
   "source": [
    "tem_corVerde = 'corVerde' in paises.columns\n",
    "tem_corAzul = 'corAzul' in paises.columns\n",
    "print(f'Existe rótulo \"corVerde\"? -> {tem_corVerde}')\n",
    "print(f'Exsite o rótulo \"corAzul\"? -> {tem_corAzul}')"
   ]
  },
  {
   "cell_type": "code",
   "execution_count": 81,
   "id": "d395966c",
   "metadata": {},
   "outputs": [
    {
     "data": {
      "text/plain": [
       "AR    False\n",
       "BR     True\n",
       "FR    False\n",
       "IT    False\n",
       "UK    False\n",
       "Name: nome, dtype: bool"
      ]
     },
     "execution_count": 81,
     "metadata": {},
     "output_type": "execute_result"
    }
   ],
   "source": [
    "tem_Brasil = paises['nome'].isin(['Brasil'])\n",
    "tem_Brasil"
   ]
  },
  {
   "cell_type": "markdown",
   "id": "60a73188",
   "metadata": {},
   "source": [
    "###Modificação"
   ]
  },
  {
   "cell_type": "code",
   "execution_count": 86,
   "id": "1640e196",
   "metadata": {},
   "outputs": [
    {
     "data": {
      "text/html": [
       "<div>\n",
       "<style scoped>\n",
       "    .dataframe tbody tr th:only-of-type {\n",
       "        vertical-align: middle;\n",
       "    }\n",
       "\n",
       "    .dataframe tbody tr th {\n",
       "        vertical-align: top;\n",
       "    }\n",
       "\n",
       "    .dataframe thead th {\n",
       "        text-align: right;\n",
       "    }\n",
       "</style>\n",
       "<table border=\"1\" class=\"dataframe\">\n",
       "  <thead>\n",
       "    <tr style=\"text-align: right;\">\n",
       "      <th></th>\n",
       "      <th>nome</th>\n",
       "      <th>Continente</th>\n",
       "      <th>extensao</th>\n",
       "      <th>corVerde</th>\n",
       "    </tr>\n",
       "  </thead>\n",
       "  <tbody>\n",
       "    <tr>\n",
       "      <th>AR</th>\n",
       "      <td>Argentina</td>\n",
       "      <td>América</td>\n",
       "      <td>2780.0</td>\n",
       "      <td>0</td>\n",
       "    </tr>\n",
       "    <tr>\n",
       "      <th>BR</th>\n",
       "      <td>Brasil</td>\n",
       "      <td>América</td>\n",
       "      <td>8511.0</td>\n",
       "      <td>1</td>\n",
       "    </tr>\n",
       "    <tr>\n",
       "      <th>FR</th>\n",
       "      <td>França</td>\n",
       "      <td>Europa</td>\n",
       "      <td>644.0</td>\n",
       "      <td>0</td>\n",
       "    </tr>\n",
       "    <tr>\n",
       "      <th>IT</th>\n",
       "      <td>Itália</td>\n",
       "      <td>Europa</td>\n",
       "      <td>301.0</td>\n",
       "      <td>1</td>\n",
       "    </tr>\n",
       "    <tr>\n",
       "      <th>UK</th>\n",
       "      <td>Reino Unido</td>\n",
       "      <td>Europa</td>\n",
       "      <td>244.0</td>\n",
       "      <td>0</td>\n",
       "    </tr>\n",
       "    <tr>\n",
       "      <th>JP</th>\n",
       "      <td>Japão</td>\n",
       "      <td>Ásia</td>\n",
       "      <td>372.0</td>\n",
       "      <td>0</td>\n",
       "    </tr>\n",
       "  </tbody>\n",
       "</table>\n",
       "</div>"
      ],
      "text/plain": [
       "           nome Continente  extensao  corVerde\n",
       "AR    Argentina    América    2780.0         0\n",
       "BR       Brasil    América    8511.0         1\n",
       "FR       França     Europa     644.0         0\n",
       "IT       Itália     Europa     301.0         1\n",
       "UK  Reino Unido     Europa     244.0         0\n",
       "JP        Japão       Ásia     372.0         0"
      ]
     },
     "execution_count": 86,
     "metadata": {},
     "output_type": "execute_result"
    }
   ],
   "source": [
    "#Inserir o país Japão (JP)\n",
    "paises.loc['JP'] = {'nome':'Japão', 'Continente': 'Ásia', 'extensao': 372, 'corVerde': 0}\n",
    "paises"
   ]
  },
  {
   "cell_type": "code",
   "execution_count": 87,
   "id": "68258574",
   "metadata": {},
   "outputs": [],
   "source": [
    "#Alterar a extensão do Brasil\n",
    "paises.at['BR', 'extensao'] = 8512"
   ]
  },
  {
   "cell_type": "code",
   "execution_count": 88,
   "id": "77b32cd7",
   "metadata": {},
   "outputs": [],
   "source": [
    "#Remove a Argentina e o Reino Unido\n",
    "paises = paises.drop(['AR','UK'])"
   ]
  },
  {
   "cell_type": "code",
   "execution_count": 89,
   "id": "397eb550",
   "metadata": {},
   "outputs": [
    {
     "data": {
      "text/html": [
       "<div>\n",
       "<style scoped>\n",
       "    .dataframe tbody tr th:only-of-type {\n",
       "        vertical-align: middle;\n",
       "    }\n",
       "\n",
       "    .dataframe tbody tr th {\n",
       "        vertical-align: top;\n",
       "    }\n",
       "\n",
       "    .dataframe thead th {\n",
       "        text-align: right;\n",
       "    }\n",
       "</style>\n",
       "<table border=\"1\" class=\"dataframe\">\n",
       "  <thead>\n",
       "    <tr style=\"text-align: right;\">\n",
       "      <th></th>\n",
       "      <th>nome</th>\n",
       "      <th>Continente</th>\n",
       "      <th>extensao</th>\n",
       "      <th>corVerde</th>\n",
       "    </tr>\n",
       "  </thead>\n",
       "  <tbody>\n",
       "    <tr>\n",
       "      <th>BR</th>\n",
       "      <td>Brasil</td>\n",
       "      <td>América</td>\n",
       "      <td>8512.0</td>\n",
       "      <td>1</td>\n",
       "    </tr>\n",
       "    <tr>\n",
       "      <th>FR</th>\n",
       "      <td>França</td>\n",
       "      <td>Europa</td>\n",
       "      <td>644.0</td>\n",
       "      <td>0</td>\n",
       "    </tr>\n",
       "    <tr>\n",
       "      <th>IT</th>\n",
       "      <td>Itália</td>\n",
       "      <td>Europa</td>\n",
       "      <td>301.0</td>\n",
       "      <td>1</td>\n",
       "    </tr>\n",
       "    <tr>\n",
       "      <th>JP</th>\n",
       "      <td>Japão</td>\n",
       "      <td>Ásia</td>\n",
       "      <td>372.0</td>\n",
       "      <td>0</td>\n",
       "    </tr>\n",
       "  </tbody>\n",
       "</table>\n",
       "</div>"
      ],
      "text/plain": [
       "      nome Continente  extensao  corVerde\n",
       "BR  Brasil    América    8512.0         1\n",
       "FR  França     Europa     644.0         0\n",
       "IT  Itália     Europa     301.0         1\n",
       "JP   Japão       Ásia     372.0         0"
      ]
     },
     "execution_count": 89,
     "metadata": {},
     "output_type": "execute_result"
    }
   ],
   "source": [
    "paises"
   ]
  },
  {
   "cell_type": "code",
   "execution_count": 90,
   "id": "f72b80d9",
   "metadata": {},
   "outputs": [
    {
     "data": {
      "text/html": [
       "<div>\n",
       "<style scoped>\n",
       "    .dataframe tbody tr th:only-of-type {\n",
       "        vertical-align: middle;\n",
       "    }\n",
       "\n",
       "    .dataframe tbody tr th {\n",
       "        vertical-align: top;\n",
       "    }\n",
       "\n",
       "    .dataframe thead th {\n",
       "        text-align: right;\n",
       "    }\n",
       "</style>\n",
       "<table border=\"1\" class=\"dataframe\">\n",
       "  <thead>\n",
       "    <tr style=\"text-align: right;\">\n",
       "      <th></th>\n",
       "      <th>nome</th>\n",
       "      <th>Continente</th>\n",
       "      <th>extensao</th>\n",
       "      <th>corVerde</th>\n",
       "    </tr>\n",
       "  </thead>\n",
       "  <tbody>\n",
       "    <tr>\n",
       "      <th>BR</th>\n",
       "      <td>Brasil</td>\n",
       "      <td>América</td>\n",
       "      <td>8512.0</td>\n",
       "      <td>1</td>\n",
       "    </tr>\n",
       "    <tr>\n",
       "      <th>FR</th>\n",
       "      <td>França</td>\n",
       "      <td>Europa</td>\n",
       "      <td>644.0</td>\n",
       "      <td>1</td>\n",
       "    </tr>\n",
       "    <tr>\n",
       "      <th>IT</th>\n",
       "      <td>Itália</td>\n",
       "      <td>Europa</td>\n",
       "      <td>301.0</td>\n",
       "      <td>1</td>\n",
       "    </tr>\n",
       "    <tr>\n",
       "      <th>JP</th>\n",
       "      <td>Japão</td>\n",
       "      <td>Ásia</td>\n",
       "      <td>372.0</td>\n",
       "      <td>0</td>\n",
       "    </tr>\n",
       "  </tbody>\n",
       "</table>\n",
       "</div>"
      ],
      "text/plain": [
       "      nome Continente  extensao  corVerde\n",
       "BR  Brasil    América    8512.0         1\n",
       "FR  França     Europa     644.0         1\n",
       "IT  Itália     Europa     301.0         1\n",
       "JP   Japão       Ásia     372.0         0"
      ]
     },
     "execution_count": 90,
     "metadata": {},
     "output_type": "execute_result"
    }
   ],
   "source": [
    "paises.at['FR','corVerde'] = 1\n",
    "paises"
   ]
  },
  {
   "cell_type": "code",
   "execution_count": 91,
   "id": "b42b1ec7",
   "metadata": {},
   "outputs": [
    {
     "data": {
      "text/html": [
       "<div>\n",
       "<style scoped>\n",
       "    .dataframe tbody tr th:only-of-type {\n",
       "        vertical-align: middle;\n",
       "    }\n",
       "\n",
       "    .dataframe tbody tr th {\n",
       "        vertical-align: top;\n",
       "    }\n",
       "\n",
       "    .dataframe thead th {\n",
       "        text-align: right;\n",
       "    }\n",
       "</style>\n",
       "<table border=\"1\" class=\"dataframe\">\n",
       "  <thead>\n",
       "    <tr style=\"text-align: right;\">\n",
       "      <th></th>\n",
       "      <th>nome</th>\n",
       "      <th>continente</th>\n",
       "      <th>extensao</th>\n",
       "      <th>corVerde</th>\n",
       "    </tr>\n",
       "    <tr>\n",
       "      <th>sigla</th>\n",
       "      <th></th>\n",
       "      <th></th>\n",
       "      <th></th>\n",
       "      <th></th>\n",
       "    </tr>\n",
       "  </thead>\n",
       "  <tbody>\n",
       "    <tr>\n",
       "      <th>AR</th>\n",
       "      <td>Argentina</td>\n",
       "      <td>América</td>\n",
       "      <td>2780</td>\n",
       "      <td>0</td>\n",
       "    </tr>\n",
       "    <tr>\n",
       "      <th>BR</th>\n",
       "      <td>Brasil</td>\n",
       "      <td>América</td>\n",
       "      <td>8511</td>\n",
       "      <td>1</td>\n",
       "    </tr>\n",
       "    <tr>\n",
       "      <th>FR</th>\n",
       "      <td>França</td>\n",
       "      <td>Europa</td>\n",
       "      <td>644</td>\n",
       "      <td>0</td>\n",
       "    </tr>\n",
       "    <tr>\n",
       "      <th>IT</th>\n",
       "      <td>Itália</td>\n",
       "      <td>Europa</td>\n",
       "      <td>301</td>\n",
       "      <td>1</td>\n",
       "    </tr>\n",
       "    <tr>\n",
       "      <th>UK</th>\n",
       "      <td>Reino Unido</td>\n",
       "      <td>Europa</td>\n",
       "      <td>244</td>\n",
       "      <td>0</td>\n",
       "    </tr>\n",
       "  </tbody>\n",
       "</table>\n",
       "</div>"
      ],
      "text/plain": [
       "              nome continente  extensao  corVerde\n",
       "sigla                                            \n",
       "AR       Argentina    América      2780         0\n",
       "BR          Brasil    América      8511         1\n",
       "FR          França     Europa       644         0\n",
       "IT          Itália     Europa       301         1\n",
       "UK     Reino Unido     Europa       244         0"
      ]
     },
     "execution_count": 91,
     "metadata": {},
     "output_type": "execute_result"
    }
   ],
   "source": [
    "paises1 = pd.read_csv('paises.csv', index_col='sigla')\n",
    "paises1\n"
   ]
  },
  {
   "cell_type": "code",
   "execution_count": 92,
   "id": "70ed47b3",
   "metadata": {},
   "outputs": [
    {
     "data": {
      "text/html": [
       "<div>\n",
       "<style scoped>\n",
       "    .dataframe tbody tr th:only-of-type {\n",
       "        vertical-align: middle;\n",
       "    }\n",
       "\n",
       "    .dataframe tbody tr th {\n",
       "        vertical-align: top;\n",
       "    }\n",
       "\n",
       "    .dataframe thead th {\n",
       "        text-align: right;\n",
       "    }\n",
       "</style>\n",
       "<table border=\"1\" class=\"dataframe\">\n",
       "  <thead>\n",
       "    <tr style=\"text-align: right;\">\n",
       "      <th></th>\n",
       "      <th>matricula</th>\n",
       "      <th>nota1</th>\n",
       "      <th>nota2</th>\n",
       "    </tr>\n",
       "  </thead>\n",
       "  <tbody>\n",
       "    <tr>\n",
       "      <th>0</th>\n",
       "      <td>M0012017</td>\n",
       "      <td>9.8</td>\n",
       "      <td>9.5</td>\n",
       "    </tr>\n",
       "    <tr>\n",
       "      <th>1</th>\n",
       "      <td>M0022017</td>\n",
       "      <td>5.3</td>\n",
       "      <td>4.1</td>\n",
       "    </tr>\n",
       "    <tr>\n",
       "      <th>2</th>\n",
       "      <td>M0032017</td>\n",
       "      <td>2.5</td>\n",
       "      <td>8.0</td>\n",
       "    </tr>\n",
       "    <tr>\n",
       "      <th>3</th>\n",
       "      <td>M0042017</td>\n",
       "      <td>7.5</td>\n",
       "      <td>7.5</td>\n",
       "    </tr>\n",
       "  </tbody>\n",
       "</table>\n",
       "</div>"
      ],
      "text/plain": [
       "  matricula  nota1  nota2\n",
       "0  M0012017    9.8    9.5\n",
       "1  M0022017    5.3    4.1\n",
       "2  M0032017    2.5    8.0\n",
       "3  M0042017    7.5    7.5"
      ]
     },
     "execution_count": 92,
     "metadata": {},
     "output_type": "execute_result"
    }
   ],
   "source": [
    "#Importação de CSV sem cabeçalho e com ';' como separador\n",
    "notas = pd.read_csv('notas.csv', sep=';', names=['matricula', 'nota1', 'nota2'])\n",
    "notas"
   ]
  },
  {
   "cell_type": "code",
   "execution_count": 95,
   "id": "548c46cf",
   "metadata": {},
   "outputs": [],
   "source": [
    "#Importa o arquivo para uma série\n",
    "serie_gols = pd.read_csv('gols.txt', sep=' ', index_col=0)"
   ]
  },
  {
   "cell_type": "code",
   "execution_count": 96,
   "id": "527339cb",
   "metadata": {},
   "outputs": [
    {
     "data": {
      "text/html": [
       "<div>\n",
       "<style scoped>\n",
       "    .dataframe tbody tr th:only-of-type {\n",
       "        vertical-align: middle;\n",
       "    }\n",
       "\n",
       "    .dataframe tbody tr th {\n",
       "        vertical-align: top;\n",
       "    }\n",
       "\n",
       "    .dataframe thead th {\n",
       "        text-align: right;\n",
       "    }\n",
       "</style>\n",
       "<table border=\"1\" class=\"dataframe\">\n",
       "  <thead>\n",
       "    <tr style=\"text-align: right;\">\n",
       "      <th></th>\n",
       "      <th>gols</th>\n",
       "    </tr>\n",
       "    <tr>\n",
       "      <th>dia</th>\n",
       "      <th></th>\n",
       "    </tr>\n",
       "  </thead>\n",
       "  <tbody>\n",
       "    <tr>\n",
       "      <th>2019-06-05</th>\n",
       "      <td>1</td>\n",
       "    </tr>\n",
       "    <tr>\n",
       "      <th>2019-06-09</th>\n",
       "      <td>0</td>\n",
       "    </tr>\n",
       "    <tr>\n",
       "      <th>2019-06-16</th>\n",
       "      <td>5</td>\n",
       "    </tr>\n",
       "    <tr>\n",
       "      <th>2019-06-19</th>\n",
       "      <td>2</td>\n",
       "    </tr>\n",
       "    <tr>\n",
       "      <th>2019-06-23</th>\n",
       "      <td>1</td>\n",
       "    </tr>\n",
       "    <tr>\n",
       "      <th>2019-06-27</th>\n",
       "      <td>3</td>\n",
       "    </tr>\n",
       "    <tr>\n",
       "      <th>2019-06-30</th>\n",
       "      <td>0</td>\n",
       "    </tr>\n",
       "  </tbody>\n",
       "</table>\n",
       "</div>"
      ],
      "text/plain": [
       "            gols\n",
       "dia             \n",
       "2019-06-05     1\n",
       "2019-06-09     0\n",
       "2019-06-16     5\n",
       "2019-06-19     2\n",
       "2019-06-23     1\n",
       "2019-06-27     3\n",
       "2019-06-30     0"
      ]
     },
     "execution_count": 96,
     "metadata": {},
     "output_type": "execute_result"
    }
   ],
   "source": [
    "#Converte o tipo do índice para datetime e imprime a série\n",
    "serie_gols.index = pd.to_datetime(serie_gols.index, format='%d/%m/%Y')\n",
    "serie_gols"
   ]
  },
  {
   "cell_type": "code",
   "execution_count": null,
   "id": "da17dca7",
   "metadata": {},
   "outputs": [],
   "source": []
  },
  {
   "cell_type": "code",
   "execution_count": null,
   "id": "b8830b4b",
   "metadata": {},
   "outputs": [],
   "source": []
  }
 ],
 "metadata": {
  "kernelspec": {
   "display_name": "base",
   "language": "python",
   "name": "python3"
  },
  "language_info": {
   "codemirror_mode": {
    "name": "ipython",
    "version": 3
   },
   "file_extension": ".py",
   "mimetype": "text/x-python",
   "name": "python",
   "nbconvert_exporter": "python",
   "pygments_lexer": "ipython3",
   "version": "3.13.5"
  }
 },
 "nbformat": 4,
 "nbformat_minor": 5
}
