{
 "cells": [
  {
   "cell_type": "code",
   "execution_count": 13,
   "id": "62f6617c",
   "metadata": {},
   "outputs": [],
   "source": [
    "import pandas as pd"
   ]
  },
  {
   "cell_type": "markdown",
   "id": "15576da2",
   "metadata": {},
   "source": [
    "##Hello Series"
   ]
  },
  {
   "cell_type": "code",
   "execution_count": 30,
   "id": "1af3e641",
   "metadata": {},
   "outputs": [
    {
     "data": {
      "text/plain": [
       "0    7.6\n",
       "1    5.0\n",
       "2    8.5\n",
       "3    9.5\n",
       "4    6.4\n",
       "dtype: float64"
      ]
     },
     "execution_count": 30,
     "metadata": {},
     "output_type": "execute_result"
    }
   ],
   "source": [
    "#Cria a Series de notas\n",
    "notas = pd.Series([7.6, 5.0, 8.5, 9.5, 6.4])\n",
    "notas"
   ]
  },
  {
   "cell_type": "code",
   "execution_count": 15,
   "id": "101b140f",
   "metadata": {},
   "outputs": [],
   "source": [
    "#Cria a Series de alunos\n",
    "lst_matriculas = ['M02', 'M05', 'M13', 'M14', 'M19']\n",
    "lst_nomes = ['Bob', 'Dayse', 'Bill', 'Cris', 'Jimi']\n",
    "alunos = pd.Series(lst_nomes, index=lst_matriculas)"
   ]
  },
  {
   "cell_type": "code",
   "execution_count": 16,
   "id": "77391419",
   "metadata": {},
   "outputs": [
    {
     "name": "stdout",
     "output_type": "stream",
     "text": [
      "0    7.6\n",
      "1    5.0\n",
      "2    8.5\n",
      "3    9.5\n",
      "4    6.4\n",
      "dtype: float64\n",
      "-------------------\n",
      "M02      Bob\n",
      "M05    Dayse\n",
      "M13     Bill\n",
      "M14     Cris\n",
      "M19     Jimi\n",
      "dtype: object\n"
     ]
    }
   ],
   "source": [
    "#imprime suas duas Series\n",
    "print(notas); print('-------------------'); print(alunos)"
   ]
  },
  {
   "cell_type": "code",
   "execution_count": 17,
   "id": "cbf9b855",
   "metadata": {},
   "outputs": [],
   "source": [
    "#Outra maneira de criar Series\n",
    "dic_alunos = {'M02': 'Bob', 'M05': 'Dayse', 'M13': 'Bill', 'M14': 'Cris', 'M19': 'Jimi'}\n",
    "alunos = pd.Series(dic_alunos)"
   ]
  },
  {
   "cell_type": "code",
   "execution_count": 18,
   "id": "b6391056",
   "metadata": {},
   "outputs": [
    {
     "name": "stdout",
     "output_type": "stream",
     "text": [
      "M02      Bob\n",
      "M05    Dayse\n",
      "M13     Bill\n",
      "M14     Cris\n",
      "M19     Jimi\n",
      "dtype: object\n"
     ]
    }
   ],
   "source": [
    "print(alunos)"
   ]
  },
  {
   "cell_type": "markdown",
   "id": "b6f15f46",
   "metadata": {},
   "source": [
    "##Propriedades básicas das Series"
   ]
  },
  {
   "cell_type": "code",
   "execution_count": 19,
   "id": "9ec27ae4",
   "metadata": {},
   "outputs": [],
   "source": [
    "#Atribui nomes para os vetores de dados e rótulos\n",
    "alunos.name = 'alunos'\n",
    "alunos.index.name = 'matrículas'"
   ]
  },
  {
   "cell_type": "code",
   "execution_count": 20,
   "id": "6e23f530",
   "metadata": {},
   "outputs": [
    {
     "name": "stdout",
     "output_type": "stream",
     "text": [
      "matrículas\n",
      "M02      Bob\n",
      "M05    Dayse\n",
      "M13     Bill\n",
      "M14     Cris\n",
      "M19     Jimi\n",
      "Name: alunos, dtype: object\n",
      "----------------------------\n",
      "Número de elementos: 5\n",
      "Vetor de dados: ['Bob' 'Dayse' 'Bill' 'Cris' 'Jimi']\n",
      "Vetor de rótulos: Index(['M02', 'M05', 'M13', 'M14', 'M19'], dtype='object', name='matrículas')\n",
      "Tipo (type): <class 'pandas.core.series.Series'>\n",
      "Dtype da Series: object\n",
      "Dtype do vetor de rótulos: object\n"
     ]
    }
   ],
   "source": [
    "#Recupera e imprime as propriedades\n",
    "print(alunos)\n",
    "print('----------------------------')\n",
    "tamanho = alunos.size\n",
    "dados = alunos.values\n",
    "rotulos = alunos.index\n",
    "alunos_tipo = type(alunos)\n",
    "alunos_dtype = alunos.dtype\n",
    "alunos_idx_dtype = alunos.index.dtype\n",
    "\n",
    "print(f'Número de elementos: {tamanho}')\n",
    "print(f'Vetor de dados: {dados}')\n",
    "print(f'Vetor de rótulos: {rotulos}')\n",
    "print(f'Tipo (type): {alunos_tipo}')\n",
    "print(f'Dtype da Series: {alunos_dtype}')\n",
    "print(f'Dtype do vetor de rótulos: {alunos_idx_dtype}')"
   ]
  },
  {
   "cell_type": "code",
   "execution_count": 21,
   "id": "96b97528",
   "metadata": {},
   "outputs": [
    {
     "name": "stdout",
     "output_type": "stream",
     "text": [
      "Bob\n",
      "Cris\n",
      "Jimi\n"
     ]
    },
    {
     "name": "stderr",
     "output_type": "stream",
     "text": [
      "/tmp/ipykernel_47224/671481380.py:2: FutureWarning: Series.__getitem__ treating keys as positions is deprecated. In a future version, integer keys will always be treated as labels (consistent with DataFrame behavior). To access a value by position, use `ser.iloc[pos]`\n",
      "  print(alunos[0]) #pega o primeiro aluno\n",
      "/tmp/ipykernel_47224/671481380.py:4: FutureWarning: Series.__getitem__ treating keys as positions is deprecated. In a future version, integer keys will always be treated as labels (consistent with DataFrame behavior). To access a value by position, use `ser.iloc[pos]`\n",
      "  print(alunos[alunos.size-1]) #último aluno ou alunos[-1]\n"
     ]
    }
   ],
   "source": [
    "#Indexação tradicional\n",
    "print(alunos[0]) #pega o primeiro aluno\n",
    "print(alunos['M14']) #aluno de matrícula 'M14'\n",
    "print(alunos[alunos.size-1]) #último aluno ou alunos[-1]"
   ]
  },
  {
   "cell_type": "code",
   "execution_count": 22,
   "id": "b36d7286",
   "metadata": {},
   "outputs": [
    {
     "name": "stdout",
     "output_type": "stream",
     "text": [
      "matrículas\n",
      "M05    Dayse\n",
      "M13     Bill\n",
      "Name: alunos, dtype: object\n",
      "matrículas\n",
      "M13    Bill\n",
      "M14    Cris\n",
      "M19    Jimi\n",
      "Name: alunos, dtype: object\n",
      "matrículas\n",
      "M02      Bob\n",
      "M05    Dayse\n",
      "M13     Bill\n",
      "Name: alunos, dtype: object\n",
      "matrículas\n",
      "M05    Dayse\n",
      "M14     Cris\n",
      "Name: alunos, dtype: object\n",
      "matrículas\n",
      "M13    Bill\n",
      "M02     Bob\n",
      "M19    Jimi\n",
      "Name: alunos, dtype: object\n",
      "matrículas\n",
      "M13    Bill\n",
      "M02     Bob\n",
      "M19    Jimi\n",
      "Name: alunos, dtype: object\n"
     ]
    },
    {
     "name": "stderr",
     "output_type": "stream",
     "text": [
      "/tmp/ipykernel_47224/3678335663.py:6: FutureWarning: Series.__getitem__ treating keys as positions is deprecated. In a future version, integer keys will always be treated as labels (consistent with DataFrame behavior). To access a value by position, use `ser.iloc[pos]`\n",
      "  print(alunos[[2,0,4]])#Todos os elementos especificados pelos índices da lista nesta ordem\n"
     ]
    }
   ],
   "source": [
    "#Indexação por fatiamento\n",
    "print(alunos[1:3]) #Do elemento de indice i=1 ao de índice j =3 - 1, ou seja vai do elemento 1 ao elemento 2\n",
    "print(alunos[2:]) #Do elemento de índice i = 2 até o último elemento\n",
    "print(alunos[:3]) #Do primeiro elemento ao de índice j = 3 - 1, ou seja vai do primeiro elemento até o elemento 2\n",
    "print(alunos[1:4:2]) #Do elemento i = 1 ao j=4 -1, pulando os índices de 2 em 2\n",
    "print(alunos[[2,0,4]])#Todos os elementos especificados pelos índices da lista nesta ordem\n",
    "print(alunos[['M13', 'M02', 'M19']]) #Todos os elementos especificados pelo título da lista nesta ordem"
   ]
  },
  {
   "cell_type": "code",
   "execution_count": 31,
   "id": "3aaa6e83",
   "metadata": {},
   "outputs": [],
   "source": [
    "#Indexação booleana\n",
    "#Obtém os índices dos alunos aprovados\n",
    "idx_aprovados = notas[notas >= 7].index"
   ]
  },
  {
   "cell_type": "code",
   "execution_count": 32,
   "id": "f60b6aed",
   "metadata": {},
   "outputs": [
    {
     "name": "stdout",
     "output_type": "stream",
     "text": [
      "relação de alunos aprovados:\n",
      "--------------------------------\n",
      "matrículas\n",
      "M02     Bob\n",
      "M13    Bill\n",
      "M14    Cris\n",
      "Name: alunos, dtype: object\n"
     ]
    },
    {
     "name": "stderr",
     "output_type": "stream",
     "text": [
      "/tmp/ipykernel_47224/4050336039.py:4: FutureWarning: Series.__getitem__ treating keys as positions is deprecated. In a future version, integer keys will always be treated as labels (consistent with DataFrame behavior). To access a value by position, use `ser.iloc[pos]`\n",
      "  print(alunos[idx_aprovados])\n"
     ]
    }
   ],
   "source": [
    "#imprime os alunos aprovados\n",
    "print('relação de alunos aprovados:')\n",
    "print('--------------------------------')\n",
    "print(alunos[idx_aprovados])"
   ]
  },
  {
   "cell_type": "markdown",
   "id": "2708239f",
   "metadata": {},
   "source": [
    "##Busca em Series"
   ]
  },
  {
   "cell_type": "code",
   "execution_count": 34,
   "id": "0eb447f4",
   "metadata": {},
   "outputs": [
    {
     "name": "stdout",
     "output_type": "stream",
     "text": [
      "Existe o rótulo \"M13\"? -> True\n",
      "Existe o rótulo \"M99\"? -> False\n",
      "---------------------------------------\n"
     ]
    }
   ],
   "source": [
    "#Testa se rótulos fazem parte de uma Series\n",
    "tem_M13 = 'M13' in alunos\n",
    "tem_M99 = 'M99' in alunos\n",
    "print(f'Existe o rótulo \"M13\"? -> {tem_M13}')\n",
    "print(f'Existe o rótulo \"M99\"? -> {tem_M99}')\n",
    "print('---------------------------------------')"
   ]
  },
  {
   "cell_type": "code",
   "execution_count": 35,
   "id": "622a3e59",
   "metadata": {},
   "outputs": [
    {
     "name": "stdout",
     "output_type": "stream",
     "text": [
      "Existe o valor \"Bob\"\n",
      "matrículas\n",
      "M02     True\n",
      "M05    False\n",
      "M13    False\n",
      "M14    False\n",
      "M19    False\n",
      "Name: alunos, dtype: bool\n"
     ]
    }
   ],
   "source": [
    "#Testa se valor faz parte de uma Series\n",
    "tem_Bob = alunos.isin(['Bob'])\n",
    "print('Existe o valor \"Bob\"')\n",
    "print(tem_Bob)"
   ]
  },
  {
   "cell_type": "markdown",
   "id": "76fd6615",
   "metadata": {},
   "source": [
    "##Modificação"
   ]
  },
  {
   "cell_type": "code",
   "execution_count": 36,
   "id": "60eb9dbd",
   "metadata": {},
   "outputs": [],
   "source": [
    "#Inserindo, Alterando e removendo elementos de Series\n",
    "#inserir o aluno de matrícula M55, Rakesh\n",
    "alunos['M55'] = 'Rakesh'"
   ]
  },
  {
   "cell_type": "code",
   "execution_count": 37,
   "id": "0e5edd20",
   "metadata": {},
   "outputs": [],
   "source": [
    "#Altera os nomes Bill, Cris e Jimi para Billy, Cristy e Jimmy\n",
    "alunos['M13'] = 'Billy'\n",
    "alunos[['M14', 'M19']] = ['Cristy', 'Jimmy']"
   ]
  },
  {
   "cell_type": "code",
   "execution_count": 38,
   "id": "423bb3f4",
   "metadata": {},
   "outputs": [
    {
     "name": "stdout",
     "output_type": "stream",
     "text": [
      "---------------------------------\n",
      "Series após as alterações:\n",
      "matrículas\n",
      "M05     Dayse\n",
      "M13     Billy\n",
      "M14    Cristy\n",
      "M19     Jimmy\n",
      "M55    Rakesh\n",
      "Name: alunos, dtype: object\n"
     ]
    }
   ],
   "source": [
    "#Remove o aluno de matrícula M02 (Bob)\n",
    "alunos = alunos.drop('M02')\n",
    "\n",
    "print('---------------------------------')\n",
    "print('Series após as alterações:')\n",
    "print(alunos)"
   ]
  },
  {
   "cell_type": "code",
   "execution_count": null,
   "id": "0fe2b35a",
   "metadata": {},
   "outputs": [
    {
     "data": {
      "text/plain": [
       "M55     Dayse\n",
       "M14     Billy\n",
       "M19    Cristy\n",
       "M13     Jimmy\n",
       "M05    Rakesh\n",
       "Name: alunos, dtype: object"
      ]
     },
     "execution_count": 39,
     "metadata": {},
     "output_type": "execute_result"
    }
   ],
   "source": [
    "#Muda o índice\n",
    "alunos.index = ['M55', 'M14', 'M19', 'M13', 'M05']\n",
    "alunos"
   ]
  },
  {
   "cell_type": "markdown",
   "id": "662da541",
   "metadata": {},
   "source": [
    "##Operações aritméticas com computação vetorizada"
   ]
  },
  {
   "cell_type": "code",
   "execution_count": 41,
   "id": "2488ecc5",
   "metadata": {},
   "outputs": [],
   "source": [
    "import numpy as np"
   ]
  },
  {
   "cell_type": "code",
   "execution_count": 42,
   "id": "5400ccda",
   "metadata": {},
   "outputs": [
    {
     "name": "stdout",
     "output_type": "stream",
     "text": [
      "0     4\n",
      "1     8\n",
      "2    12\n",
      "dtype: int64\n",
      "0     3\n",
      "1     7\n",
      "2    11\n",
      "dtype: int64\n",
      "0    1.414214\n",
      "1    2.000000\n",
      "2    2.449490\n",
      "dtype: float64\n"
     ]
    }
   ],
   "source": [
    "#Cria as Series s1 e s2\n",
    "s1 = pd.Series([2,4,6])\n",
    "s2 = pd.Series([1,3,5])\n",
    "print(s1 * 2)\n",
    "print(s1 + s2)\n",
    "print(np.sqrt(s1))"
   ]
  },
  {
   "cell_type": "code",
   "execution_count": null,
   "id": "7f46efb5",
   "metadata": {},
   "outputs": [],
   "source": [
    "##"
   ]
  },
  {
   "cell_type": "code",
   "execution_count": null,
   "id": "069b12b0",
   "metadata": {},
   "outputs": [],
   "source": []
  }
 ],
 "metadata": {
  "kernelspec": {
   "display_name": "base",
   "language": "python",
   "name": "python3"
  },
  "language_info": {
   "codemirror_mode": {
    "name": "ipython",
    "version": 3
   },
   "file_extension": ".py",
   "mimetype": "text/x-python",
   "name": "python",
   "nbconvert_exporter": "python",
   "pygments_lexer": "ipython3",
   "version": "3.13.5"
  }
 },
 "nbformat": 4,
 "nbformat_minor": 5
}
